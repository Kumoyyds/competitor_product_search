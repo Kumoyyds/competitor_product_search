{
 "cells": [
  {
   "cell_type": "code",
   "execution_count": null,
   "id": "0769fd80",
   "metadata": {},
   "outputs": [],
   "source": [
    "import os\n",
    "import pandas as pd\n",
    "\n",
    "import pandas as pd\n",
    "import numpy as np\n",
    "from tqdm import tqdm\n",
    "import concurrent.futures\n",
    "import re"
   ]
  },
  {
   "cell_type": "markdown",
   "id": "2c2b35b5",
   "metadata": {},
   "source": [
    "# Loading the file"
   ]
  },
  {
   "cell_type": "code",
   "execution_count": null,
   "id": "0f320afa",
   "metadata": {},
   "outputs": [],
   "source": [
    "# input path\n",
    "input_path = os.path.join(os.getcwd(), \"input/amazon_de_url.xlsx\")\n",
    "\n",
    "file = pd.read_excel(input_path)\n",
    "\n",
    "# output path \n",
    "output_path = 'result.xlsx'\n",
    "output_path = os.path.join(os.getcwd(), output_path)"
   ]
  },
  {
   "cell_type": "markdown",
   "id": "156f9890",
   "metadata": {},
   "source": [
    "# Parameter"
   ]
  },
  {
   "cell_type": "code",
   "execution_count": null,
   "id": "5809d7bc",
   "metadata": {},
   "outputs": [],
   "source": [
    "use_match = 0\n",
    "\n",
    "match_file_path = 'match_file'\n",
    "\n",
    "if use_match:\n",
    "    from sentence_transformers import SentenceTransformer\n",
    "    \n",
    "\n"
   ]
  }
 ],
 "metadata": {
  "kernelspec": {
   "display_name": ".venv (3.12.10)",
   "language": "python",
   "name": "python3"
  },
  "language_info": {
   "codemirror_mode": {
    "name": "ipython",
    "version": 3
   },
   "file_extension": ".py",
   "mimetype": "text/x-python",
   "name": "python",
   "nbconvert_exporter": "python",
   "pygments_lexer": "ipython3",
   "version": "3.12.10"
  }
 },
 "nbformat": 4,
 "nbformat_minor": 5
}
